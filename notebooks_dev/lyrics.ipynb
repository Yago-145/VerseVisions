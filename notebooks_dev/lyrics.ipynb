{
 "cells": [
  {
   "cell_type": "code",
   "execution_count": 3,
   "metadata": {},
   "outputs": [],
   "source": [
    "%reload_ext autoreload\n",
    "%autoreload 2"
   ]
  },
  {
   "cell_type": "code",
   "execution_count": 1,
   "metadata": {},
   "outputs": [],
   "source": [
    "from split_audio import split_audio\n",
    "import os\n",
    "from get_lyrics import get_lyrics"
   ]
  },
  {
   "cell_type": "code",
   "execution_count": 47,
   "metadata": {},
   "outputs": [],
   "source": [
    "split_audio('audios/audio1.mp3', 'audio/audio_splitted')"
   ]
  },
  {
   "cell_type": "code",
   "execution_count": 48,
   "metadata": {},
   "outputs": [
    {
     "name": "stderr",
     "output_type": "stream",
     "text": [
      "c:\\Users\\chaoz\\Anaconda3\\lib\\site-packages\\whisper\\transcribe.py:114: UserWarning: FP16 is not supported on CPU; using FP32 instead\n",
      "  warnings.warn(\"FP16 is not supported on CPU; using FP32 instead\")\n"
     ]
    },
    {
     "name": "stdout",
     "output_type": "stream",
     "text": [
      " Year\n",
      " I see a red door as I want it into the lab. No colors in it.\n",
      " And I want it painted black Don't call us in here for I want them to turn black\n",
      " Oh girl, hope I addressed it now for some of us I have to turn my head and steal my darkness goes\n",
      "\n",
      " Kick enjoy with gatherings\n",
      " I wanna see your face Make it a flame Black and white Black and white Black and white Black and white\n",
      " I wanna see a thing, a thing, a thing, a thing, a thing\n",
      " .\n",
      "\n",
      "\n",
      " You\n",
      " crushable, I want that to turn black I see the girl's bug by私 in s where the supposed flow\n",
      " you\n",
      " Turn my head until my darkness goes I see a line of cars and they're all into black\n",
      " Now it's in my love hope, never to come back I see people turn their heads and quickly, and look away\n",
      " I can't leave my baby, it just happens every day I look inside myself and see my heart is wet\n",
      " I assume I read your endless heaven into the leg Maybe then fade away as I am afraid to find\n",
      " Not even the face in the wind, your whole world is black No more will my green signal turn red\n",
      " I could not foresee this thing happening to you\n"
     ]
    }
   ],
   "source": [
    "for i in range(20):\n",
    "    audio = os.listdir('./audios/audio_splitted')[i]\n",
    "    print(transcribe_audio(f'./audios/audio_splitted/{audio}'))"
   ]
  },
  {
   "cell_type": "code",
   "execution_count": 50,
   "metadata": {},
   "outputs": [
    {
     "name": "stderr",
     "output_type": "stream",
     "text": [
      "c:\\Users\\chaoz\\Anaconda3\\lib\\site-packages\\whisper\\transcribe.py:114: UserWarning: FP16 is not supported on CPU; using FP32 instead\n",
      "  warnings.warn(\"FP16 is not supported on CPU; using FP32 instead\")\n"
     ]
    },
    {
     "name": "stdout",
     "output_type": "stream",
     "text": [
      " I see the red door as I want it into black No colors anymore, I want them to turn black I see the purple by dressed in the sun of gold I have to turn my head until my darkness goes I see a line of cards in the heart into black With flowers and my love will never to come back I see the water there isn't quickly in the way But if all baby, it just happens every day I look inside myself and see my heart is black I see my red door as I'm heading into black Maybe I'm made away in the face of fact Not even facing away with your whole world is black No more will my green seat go turn a deeper blue I could not foresee this thing happening to you If I look hard enough into the set of sun My love will last with me before the morning comes I see a red door and I want it into black No colors anymore, I want them to turn black I see the purple by dressed in the sun of gold I have to turn my head until my darkness goes I see a black door and I want it into black I see a black door and I want it into black I see the sun of gold I want it into black I see the sky is red I see the sky is red I see the sky is red I see a red door and I want it into black I see the sky is red I see the sky is red\n"
     ]
    }
   ],
   "source": [
    "print(transcribe_audio('audios/audio1.mp3'))"
   ]
  },
  {
   "cell_type": "code",
   "execution_count": 9,
   "metadata": {},
   "outputs": [
    {
     "name": "stdout",
     "output_type": "stream",
     "text": [
      "Searching for \"paint it black\" by the rolling stones...\n",
      "Done.\n"
     ]
    }
   ],
   "source": [
    "lyrics=get_lyrics('the rolling stones', 'paint it black')"
   ]
  },
  {
   "cell_type": "code",
   "execution_count": 10,
   "metadata": {},
   "outputs": [
    {
     "data": {
      "text/plain": [
       "['I see a red door and I want it painted black',\n",
       " 'No colours anymore, I want them to turn black',\n",
       " 'I see the girls walk by dressed in their summer clothes',\n",
       " 'I have to turn my head until my darkness goes',\n",
       " \"I see a line of cars and they're all painted black\",\n",
       " 'With flowers and my love, both never to come back',\n",
       " 'I see people turn their heads and quickly look away',\n",
       " 'Like a newborn baby, it just happens every day',\n",
       " 'I look inside myself and see my heart is black',\n",
       " 'I see my red door, I must have it painted black',\n",
       " \"Maybe then I'll fade away and not have to face the facts\",\n",
       " \"It's not easy facing up when your whole world is black\",\n",
       " 'No more will my green sea go turn a deeper blue',\n",
       " 'I could not foresee this thing happening to you',\n",
       " 'If I look hard enough into the setting sun',\n",
       " 'My love will laugh with me before the morning comes',\n",
       " 'You might also like[Verse 5]',\n",
       " 'I see a red door and I want it painted black',\n",
       " 'No colours anymore, I want them to turn black',\n",
       " 'I see the girls walk by dressed in their summer clothes',\n",
       " 'I have to turn my head until my darkness goes',\n",
       " 'I wanna see it painted, painted black',\n",
       " 'Black as night, black as coal',\n",
       " 'I wanna see the sun blotted out from the sky',\n",
       " 'I wanna see it painted, painted, painted',\n",
       " 'Painted black, yeah']"
      ]
     },
     "execution_count": 10,
     "metadata": {},
     "output_type": "execute_result"
    }
   ],
   "source": [
    "lyrics"
   ]
  },
  {
   "cell_type": "code",
   "execution_count": 17,
   "metadata": {},
   "outputs": [
    {
     "name": "stdout",
     "output_type": "stream",
     "text": [
      "The autoreload extension is already loaded. To reload it, use:\n",
      "  %reload_ext autoreload\n"
     ]
    }
   ],
   "source": [
    "%load_ext autoreload\n",
    "%autoreload 2"
   ]
  },
  {
   "cell_type": "code",
   "execution_count": 18,
   "metadata": {},
   "outputs": [
    {
     "name": "stdout",
     "output_type": "stream",
     "text": [
      "\"La Canción Más Bonita del Mundo\"   La Oreja de Van Gogh.\n"
     ]
    }
   ],
   "source": [
    "song_title = '\"La Canción Más Bonita del Mundo\" by La Oreja de Van Gogh.'\n",
    "titulo_cancion = song_title.split('by')[0]\n",
    "artista = song_title.split('by')[1]\n",
    "print(titulo_cancion, artista)"
   ]
  },
  {
   "cell_type": "code",
   "execution_count": 19,
   "metadata": {},
   "outputs": [
    {
     "name": "stdout",
     "output_type": "stream",
     "text": [
      "Searching for \"\"La Canción Más Bonita del Mundo\" \" by  La Oreja de Van Gogh....\n",
      "No results found for: '\"La Canción Más Bonita del Mundo\"   La Oreja de Van Gogh.'\n"
     ]
    },
    {
     "ename": "AttributeError",
     "evalue": "'NoneType' object has no attribute 'lyrics'",
     "output_type": "error",
     "traceback": [
      "\u001b[1;31m---------------------------------------------------------------------------\u001b[0m",
      "\u001b[1;31mAttributeError\u001b[0m                            Traceback (most recent call last)",
      "\u001b[1;32mc:\\Users\\chaoz\\OneDrive\\Escritorio\\UNI\\4\\TFG\\VerseVisions\\lyrics.ipynb Celda 10\u001b[0m in \u001b[0;36m<cell line: 1>\u001b[1;34m()\u001b[0m\n\u001b[1;32m----> <a href='vscode-notebook-cell:/c%3A/Users/chaoz/OneDrive/Escritorio/UNI/4/TFG/VerseVisions/lyrics.ipynb#X11sZmlsZQ%3D%3D?line=0'>1</a>\u001b[0m final_lyrics \u001b[39m=\u001b[39m get_lyrics(artista, titulo_cancion)\n\u001b[0;32m      <a href='vscode-notebook-cell:/c%3A/Users/chaoz/OneDrive/Escritorio/UNI/4/TFG/VerseVisions/lyrics.ipynb#X11sZmlsZQ%3D%3D?line=2'>3</a>\u001b[0m \u001b[39mprint\u001b[39m(\u001b[39m'\u001b[39m\u001b[39mLas letras de la canción son: \u001b[39m\u001b[39m'\u001b[39m, final_lyrics)\n",
      "File \u001b[1;32mc:\\Users\\chaoz\\OneDrive\\Escritorio\\UNI\\4\\TFG\\VerseVisions\\get_lyrics.py:28\u001b[0m, in \u001b[0;36mget_lyrics\u001b[1;34m(artist, song_name)\u001b[0m\n\u001b[0;32m     25\u001b[0m \u001b[39mdef\u001b[39;00m \u001b[39mget_lyrics\u001b[39m(artist, song_name):\n\u001b[0;32m     27\u001b[0m     song \u001b[39m=\u001b[39m genius\u001b[39m.\u001b[39msearch_song(song_name, artist)\n\u001b[1;32m---> 28\u001b[0m     lyrics \u001b[39m=\u001b[39m clean_lyrics(song)\n\u001b[0;32m     29\u001b[0m     \u001b[39mreturn\u001b[39;00m lyrics\n",
      "File \u001b[1;32mc:\\Users\\chaoz\\OneDrive\\Escritorio\\UNI\\4\\TFG\\VerseVisions\\get_lyrics.py:9\u001b[0m, in \u001b[0;36mclean_lyrics\u001b[1;34m(song)\u001b[0m\n\u001b[0;32m      7\u001b[0m \u001b[39mdef\u001b[39;00m \u001b[39mclean_lyrics\u001b[39m(song):\n\u001b[1;32m----> 9\u001b[0m     lyrics \u001b[39m=\u001b[39m song\u001b[39m.\u001b[39;49mlyrics\n\u001b[0;32m     10\u001b[0m     lyrics \u001b[39m=\u001b[39m lyrics\u001b[39m.\u001b[39msplit(\u001b[39m'\u001b[39m\u001b[39m\\n\u001b[39;00m\u001b[39m'\u001b[39m)\n\u001b[0;32m     11\u001b[0m     lyrics \u001b[39m=\u001b[39m [line \u001b[39mfor\u001b[39;00m line \u001b[39min\u001b[39;00m lyrics \u001b[39mif\u001b[39;00m line \u001b[39m!=\u001b[39m \u001b[39m'\u001b[39m\u001b[39m'\u001b[39m]\n",
      "\u001b[1;31mAttributeError\u001b[0m: 'NoneType' object has no attribute 'lyrics'"
     ]
    }
   ],
   "source": [
    "final_lyrics = get_lyrics(artista, titulo_cancion)\n",
    "\n",
    "print('Las letras de la canción son: ', final_lyrics)"
   ]
  },
  {
   "cell_type": "code",
   "execution_count": 2,
   "metadata": {},
   "outputs": [
    {
     "name": "stdout",
     "output_type": "stream",
     "text": [
      "Searching for \"paint it black\" by the rolling stones...\n",
      "Done.\n"
     ]
    },
    {
     "data": {
      "text/plain": [
       "['I see a red door and I want it painted black',\n",
       " 'No colours anymore, I want them to turn black',\n",
       " 'I see the girls walk by dressed in their summer clothes',\n",
       " 'I have to turn my head until my darkness goes',\n",
       " \"I see a line of cars and they're all painted black\",\n",
       " 'With flowers and my love, both never to come back',\n",
       " 'I see people turn their heads and quickly look away',\n",
       " 'Like a newborn baby, it just happens every day',\n",
       " 'I look inside myself and see my heart is black',\n",
       " 'I see my red door, I must have it painted black',\n",
       " \"Maybe then I'll fade away and not have to face the facts\",\n",
       " \"It's not easy facing up when your whole world is black\",\n",
       " 'No more will my green sea go turn a deeper blue',\n",
       " 'I could not foresee this thing happening to you',\n",
       " 'If I look hard enough into the setting sun',\n",
       " 'My love will laugh with me before the morning comes',\n",
       " 'You might also like[Verse 5]',\n",
       " 'I see a red door and I want it painted black',\n",
       " 'No colours anymore, I want them to turn black',\n",
       " 'I see the girls walk by dressed in their summer clothes',\n",
       " 'I have to turn my head until my darkness goes',\n",
       " 'I wanna see it painted, painted black',\n",
       " 'Black as night, black as coal',\n",
       " 'I wanna see the sun blotted out from the sky',\n",
       " 'I wanna see it painted, painted, painted',\n",
       " 'Painted black, yeah']"
      ]
     },
     "execution_count": 2,
     "metadata": {},
     "output_type": "execute_result"
    }
   ],
   "source": [
    "get_lyrics('the rolling stones', 'paint it black')"
   ]
  }
 ],
 "metadata": {
  "kernelspec": {
   "display_name": "base",
   "language": "python",
   "name": "python3"
  },
  "language_info": {
   "codemirror_mode": {
    "name": "ipython",
    "version": 3
   },
   "file_extension": ".py",
   "mimetype": "text/x-python",
   "name": "python",
   "nbconvert_exporter": "python",
   "pygments_lexer": "ipython3",
   "version": "3.9.12"
  },
  "orig_nbformat": 4
 },
 "nbformat": 4,
 "nbformat_minor": 2
}

{
 "cells": [
  {
   "cell_type": "code",
   "execution_count": 1,
   "metadata": {},
   "outputs": [],
   "source": [
    "%load_ext autoreload\n",
    "%autoreload 2"
   ]
  },
  {
   "cell_type": "code",
   "execution_count": 1,
   "metadata": {},
   "outputs": [
    {
     "name": "stderr",
     "output_type": "stream",
     "text": [
      "The torchaudio backend is switched to 'soundfile'. Note that 'sox_io' is not supported on Windows.\n",
      "The torchaudio backend is switched to 'soundfile'. Note that 'sox_io' is not supported on Windows.\n"
     ]
    }
   ],
   "source": [
    "from whisperx_detect import detect_lyrics\n",
    "from langchain_prompts import extract_prompt\n",
    "from langchain.chat_models import ChatOpenAI\n",
    "from langchain.chains import ConversationChain\n",
    "from langchain.memory import ConversationBufferMemory\n",
    "from generate_imgs import generate_imgs\n",
    "from generate_video import generate_video\n",
    "from langchain_FAISS import extract_prompt_FAISS\n",
    "import openai\n",
    "import os"
   ]
  },
  {
   "cell_type": "code",
   "execution_count": 2,
   "metadata": {},
   "outputs": [],
   "source": [
    "os.environ['OPENAI_API_KEY'] = ...\n",
    "openai.api_key = os.environ['OPENAI_API_KEY']"
   ]
  },
  {
   "cell_type": "code",
   "execution_count": 4,
   "metadata": {},
   "outputs": [],
   "source": [
    "# DEFINIMOS LA CONEXIÓN CON CHATGPT\n",
    "def get_completion(prompt, model=\"gpt-3.5-turbo\"):\n",
    "    messages = [{\"role\": \"user\", \"content\": prompt}]\n",
    "    response = openai.ChatCompletion.create(\n",
    "        model=model,\n",
    "        messages=messages,\n",
    "        temperature=0, \n",
    "    )\n",
    "    return response.choices[0].message[\"content\"]"
   ]
  },
  {
   "cell_type": "code",
   "execution_count": 4,
   "metadata": {},
   "outputs": [
    {
     "name": "stdout",
     "output_type": "stream",
     "text": [
      "No language specified, language will be first be detected for each audio file (increases inference time).\n",
      "Model was trained with pyannote.audio 0.0.1, yours is 2.1.1. Bad things might happen unless you revert pyannote.audio to 0.x.\n",
      "Detected language: en (0.78) in first 30s of audio...\n"
     ]
    }
   ],
   "source": [
    "# DETECTAMOS LAS LETRAS CON WHISPERX\n",
    "lyrics = detect_lyrics(\"audios/paint it black.mp3\")"
   ]
  },
  {
   "cell_type": "code",
   "execution_count": 8,
   "metadata": {},
   "outputs": [
    {
     "data": {
      "text/plain": [
       "{'segments': [{'text': ' I see a red door and I want it painted black No colors anymore, I want them to turn black',\n",
       "   'start': 5.257,\n",
       "   'end': 25.709},\n",
       "  {'text': \" I see a line of cars and they're all painted black With flowers and my love hope never to come back I see people turn their heads and quickly look away Like a newborn baby it just happens every day\",\n",
       "   'start': 36.273,\n",
       "   'end': 61.636},\n",
       "  {'text': \" I look inside myself and see my heart is black I see my red door, I must have it painted black Maybe then I'll fade away and I'll have to face the facts Not easy facing up when your whole world is black No more will my green seagull turn a deeper blue\",\n",
       "   'start': 63.02,\n",
       "   'end': 91.91},\n",
       "  {'text': ' I could not foresee this thing happening to you If I look hard enough into the setting sun My love will laugh with me before the morning comes I see a red door and I want it painted black No colors anymore, I want them to turn black',\n",
       "   'start': 93.378,\n",
       "   'end': 122.453},\n",
       "  {'text': \" Let's go!\", 'start': 133.135, 'end': 134.3}],\n",
       " 'language': 'en'}"
      ]
     },
     "execution_count": 8,
     "metadata": {},
     "output_type": "execute_result"
    }
   ],
   "source": [
    "lyrics"
   ]
  },
  {
   "cell_type": "code",
   "execution_count": 7,
   "metadata": {},
   "outputs": [
    {
     "data": {
      "text/plain": [
       "'\"Paint It, Black\" by The Rolling Stones.'"
      ]
     },
     "execution_count": 7,
     "metadata": {},
     "output_type": "execute_result"
    }
   ],
   "source": [
    "# OBTENEMOS EL ARTISTA Y EL TÍTULO POSIBLES A PARTIR DE LAS LETRAS DETECTADAS\n",
    "song_prompt = f\"\"\"Try to identify the song that the lyrics below are from. \\\n",
    "maybe all lyrics not match at all, but try to find the closest one. \\\n",
    "if you have the song, your answer should be exclusively the title of the song and the artist. \\\n",
    "the lyrics are delimited by triple backticks:\n",
    "```{lyrics}```\n",
    "\"\"\"\n",
    "\n",
    "song_title = get_completion(song_prompt)\n",
    "song_title"
   ]
  },
  {
   "cell_type": "code",
   "execution_count": 8,
   "metadata": {},
   "outputs": [
    {
     "data": {
      "text/plain": [
       "\"I see a red door and I want it painted black\\nNo colors anymore I want them to turn black\\nI see the girls walk by dressed in their summer clothes\\nI have to turn my head until my darkness goes\\n\\nI see a line of cars and they're all painted black\\nWith flowers and my love both never to come back\\nI see people turn their heads and quickly look away\\nLike a newborn baby it just happens every day\\n\\nI look inside myself and see my heart is black\\nI see my red door and it has been painted black\\nMaybe then I'll fade away and not have to face the facts\\nIt's not easy facing up when your whole world is black\\n\\nNo more will my green sea go turn a deeper blue\\nI could not foresee this thing happening to you\\nIf I look hard enough into the setting sun\\nMy love will laugh with me before the morning comes\\n\\nI see a red door and I want it painted black\\nNo colors anymore I want them to turn black\\nI see the girls walk by dressed in their summer clothes\\nI have to turn my head until my darkness goes\\n\\nHmm, hmm, hmm,...\\n\\nI wanna see it painted, painted black\\nBlack as night, black as coal\\nI wanna see it painted, painted, painted, painted black\\nYeah!\""
      ]
     },
     "execution_count": 8,
     "metadata": {},
     "output_type": "execute_result"
    }
   ],
   "source": [
    "# OBTENEMOS LAS LETRAS COMPLETAS A PARTIR DEL TITULO Y ARTISTA OBTENIDOS\n",
    "lyrics_prompt =f\"\"\"give me the full lyrics of {song_title}\\\n",
    "just provide the full lyrics, not anything else, like the title of the song or the artist,\n",
    "and no extra comments.\n",
    "\"\"\"\n",
    "\n",
    "response_lyrics = get_completion(lyrics_prompt)\n",
    "response_lyrics"
   ]
  },
  {
   "cell_type": "code",
   "execution_count": 9,
   "metadata": {},
   "outputs": [
    {
     "data": {
      "text/plain": [
       "['I see a red door and I want it painted black',\n",
       " 'No colors anymore I want them to turn black',\n",
       " 'I see the girls walk by dressed in their summer clothes',\n",
       " 'I have to turn my head until my darkness goes',\n",
       " \"I see a line of cars and they're all painted black\",\n",
       " 'With flowers and my love both never to come back',\n",
       " 'I see people turn their heads and quickly look away',\n",
       " 'Like a newborn baby it just happens every day',\n",
       " 'I look inside myself and see my heart is black',\n",
       " 'I see my red door and it has been painted black',\n",
       " \"Maybe then I'll fade away and not have to face the facts\",\n",
       " \"It's not easy facing up when your whole world is black\",\n",
       " 'No more will my green sea go turn a deeper blue',\n",
       " 'I could not foresee this thing happening to you',\n",
       " 'If I look hard enough into the setting sun',\n",
       " 'My love will laugh with me before the morning comes',\n",
       " 'I see a red door and I want it painted black',\n",
       " 'No colors anymore I want them to turn black',\n",
       " 'I see the girls walk by dressed in their summer clothes',\n",
       " 'I have to turn my head until my darkness goes',\n",
       " 'Hmm, hmm, hmm,...',\n",
       " 'I wanna see it painted, painted black',\n",
       " 'Black as night, black as coal',\n",
       " 'I wanna see it painted, painted, painted, painted black',\n",
       " 'Yeah!']"
      ]
     },
     "execution_count": 9,
     "metadata": {},
     "output_type": "execute_result"
    }
   ],
   "source": [
    "final_lyrics = [x for x in response_lyrics.split(\"\\n\") if x]\n",
    "final_lyrics"
   ]
  },
  {
   "cell_type": "code",
   "execution_count": 10,
   "metadata": {},
   "outputs": [
    {
     "data": {
      "text/plain": [
       "'A futuristic cityscape with neon lights and heavy rain, in a cyberpunk style with dark tones.'"
      ]
     },
     "execution_count": 10,
     "metadata": {},
     "output_type": "execute_result"
    }
   ],
   "source": [
    "# OBTENEMOS EL PROMPT EN BASE AL ESTILO ELEGIDO\n",
    "image_prompt = extract_prompt(style='cyberpunk with dark tones')\n",
    "image_prompt"
   ]
  },
  {
   "cell_type": "code",
   "execution_count": 16,
   "metadata": {},
   "outputs": [
    {
     "data": {
      "text/plain": [
       "'a highly detailed and high technology alien landscape, dark cold tones colors theme, dramatic lighting, centered, corals, plume made of geometry, water texture, extremely detailed digital painting, sharp focus in the style of android jones, artwork of a futuristic artificial intelligence superstar with frames made of detailed circuits, mystical colors, rim light, octane render, 8 k, stunning scene, raytracing, under water visual distortion, dark tones colors, trending on artstation'"
      ]
     },
     "execution_count": 16,
     "metadata": {},
     "output_type": "execute_result"
    }
   ],
   "source": [
    "# OBTENEMOS EL PROMPT EN BASE AL ESTILO ELEGIDO UTILIZANDO EMBEDDINGS CON FAISS\n",
    "image_prompt_faiss = extract_prompt_FAISS(style='cyberpunk with dark tones')\n",
    "image_prompt_faiss = image_prompt_faiss[8:]\n",
    "image_prompt_faiss"
   ]
  },
  {
   "cell_type": "code",
   "execution_count": 17,
   "metadata": {},
   "outputs": [],
   "source": [
    "# DEFINIMOS UN OBJETO LANGCHAIN CAPAZ DE ALMACENAR LA MEMORIA DE LA CONVERSACIÓN\n",
    "llm = ChatOpenAI(model_name = \"gpt-3.5-turbo\", \n",
    "                 temperature=0.0)\n",
    "memory = ConversationBufferMemory()\n",
    "conversation = ConversationChain(\n",
    "    llm=llm, \n",
    "    memory = memory,\n",
    "    verbose=False\n",
    ")\n",
    "\n",
    "# CREAMOS TODOS LOS PROMPTS PARA CADA FRASE DE LA CANCIÓN \n",
    "prompts_list = []\n",
    "cont = 0\n",
    "\n",
    "for lyrics in final_lyrics:    \n",
    "    generation_prompt = f\"\"\"\n",
    "    You are a prompt engineer for stable diffusion images generation. You are tasked with creating a prompt adapted to the following lyrics of a song:\n",
    "    {lyrics}\n",
    "\n",
    "    You have to create the prompt using this template: {image_prompt_faiss}\n",
    "\n",
    "    don't modify the properties of the template, just modify the main object that is being\n",
    "    created in the template, and use instead the lyrics provided to create a useful prompt that matches \n",
    "    the style of the template.\n",
    "    the prompt that you provide must be brief and concise, describing the scene that the lyrics are about, not modifying at all the template.\n",
    "\n",
    "    for example, if the template is creating a panda riding a bike, and the lyrics provided are about a dog,\n",
    "    you must delete the panda riding a bike, and use instead the dog to create a useful prompt that matches the style of the template.\n",
    "\n",
    "    in case the lyrics provided are not enough to create a prompt because they are expressions like \"la la la\" or \"oh oh oh\" or \"yeah yeah yeah\" and so on,\n",
    "    try to create a prompt based on the previous lyrics provided on the context of the conversation that are not expressions like that.\n",
    "\n",
    "    it's so important that you don't provide any additional comments or anything else, just the prompt.\n",
    "    don't say things like \"this is the prompt\" or \"this is the prompt that i created\" or \"this is the prompt that i created based on the lyrics provided\" or anything else.\n",
    "\n",
    "    if you are not able to create a prompt for whatever reason, just force the creation of the prompt.\n",
    "    \"\"\"\n",
    "\n",
    "    prompts_list.append(conversation.predict(input = generation_prompt))\n",
    "\n",
    "    cont += 1\n",
    "\n",
    "    if cont == 3:\n",
    "        break"
   ]
  },
  {
   "cell_type": "code",
   "execution_count": 18,
   "metadata": {},
   "outputs": [
    {
     "data": {
      "text/plain": [
       "['A highly detailed and high technology alien landscape, with dark cold tones colors theme and dramatic lighting, centered around a red door that is being painted black. The scene features corals and a plume made of geometry, with water texture and extremely detailed digital painting in the style of android jones. The artwork of a futuristic artificial intelligence superstar with frames made of detailed circuits is present, with mystical colors and rim light. The scene is rendered in 8k with stunning raytracing and under water visual distortion, all while maintaining the dark tones colors and trending on artstation.',\n",
       " 'A highly detailed and high technology alien landscape, with dark cold tones colors theme and dramatic lighting, centered around a world where all colors have turned black. The scene features corals and a plume made of geometry, with water texture and extremely detailed digital painting in the style of android jones. The artwork of a futuristic artificial intelligence superstar with frames made of detailed circuits is present, with mystical colors and rim light. The scene is rendered in 8k with stunning raytracing and under water visual distortion, all while maintaining the dark tones colors and trending on artstation.',\n",
       " 'A highly detailed and high technology alien landscape, with dark cold tones colors theme and dramatic lighting, centered around a group of girls walking by dressed in their summer clothes. The scene features corals and a plume made of geometry, with water texture and extremely detailed digital painting in the style of android jones. The artwork of a futuristic artificial intelligence superstar with frames made of detailed circuits is present, with mystical colors and rim light. The scene is rendered in 8k with stunning raytracing and under water visual distortion, all while maintaining the dark tones colors and trending on artstation.']"
      ]
     },
     "execution_count": 18,
     "metadata": {},
     "output_type": "execute_result"
    }
   ],
   "source": [
    "prompts_list"
   ]
  },
  {
   "cell_type": "code",
   "execution_count": 19,
   "metadata": {},
   "outputs": [],
   "source": [
    "# INICIALIZAMOS LA GENERACIÓN DE IMÁGENES\n",
    "cont = 0\n",
    "output_dir = str(input('Nombre de la carpeta: '))\n",
    "if output_dir not in os.listdir('./'):\n",
    "    os.mkdir(output_dir)\n",
    "\n",
    "for prompt in prompts_list:\n",
    "    generate_imgs(prompt, num_imgs=1, cont=cont, output_dir=output_dir)\n",
    "    cont += 1"
   ]
  },
  {
   "cell_type": "code",
   "execution_count": 20,
   "metadata": {},
   "outputs": [],
   "source": [
    "#CREAMOS EL VIDEO A PARTIR DE LAS IMÁGENES GENERADAS\n",
    "archivos = os.listdir(output_dir)\n",
    "imagenes = [os.path.join(output_dir, imagen) for imagen in archivos]\n",
    "\n",
    "nombre_video = str(input('Nombre del video: '))\n",
    "salida = f'./{output_dir}/{nombre_video}.mp4'\n",
    "\n",
    "generate_video(imagenes, salida, fps=60, espera=2)"
   ]
  }
 ],
 "metadata": {
  "kernelspec": {
   "display_name": "versevisions",
   "language": "python",
   "name": "python3"
  },
  "language_info": {
   "codemirror_mode": {
    "name": "ipython",
    "version": 3
   },
   "file_extension": ".py",
   "mimetype": "text/x-python",
   "name": "python",
   "nbconvert_exporter": "python",
   "pygments_lexer": "ipython3",
   "version": "3.9.12"
  },
  "orig_nbformat": 4
 },
 "nbformat": 4,
 "nbformat_minor": 2
}

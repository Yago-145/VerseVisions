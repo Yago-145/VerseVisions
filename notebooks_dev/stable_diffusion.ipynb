{
 "cells": [
  {
   "cell_type": "code",
   "execution_count": 1,
   "metadata": {},
   "outputs": [],
   "source": [
    "# reload functions\n",
    "%reload_ext autoreload\n",
    "%autoreload 2"
   ]
  },
  {
   "cell_type": "code",
   "execution_count": 6,
   "metadata": {},
   "outputs": [],
   "source": [
    "from generate_prompt import generate_prompt, extract_keywords\n",
    "from generate_imgs import generate_imgs\n",
    "from generate_video import generate_video\n",
    "import os"
   ]
  },
  {
   "cell_type": "code",
   "execution_count": 3,
   "metadata": {},
   "outputs": [
    {
     "name": "stdout",
     "output_type": "stream",
     "text": [
      "George plays old guitar, softly.\n"
     ]
    }
   ],
   "source": [
    "song_lyrics = \"You check out guitar George, he knows-all the chords Mind, it's strictly rhythm he doesn't want to make it cry or sing They said an old guitar is all, he can afford When he gets up under the lights to play his thing\"\n",
    "keywords = extract_keywords(song_lyrics)\n",
    "\n",
    "# Create a prompt to generate a description using GPT-3\n",
    "gpt3_prompt = f\"From all the following keywords, describe a scene using no more than 5 words.: {', '.join(keywords)}\"\n",
    "generated_description = generate_prompt(gpt3_prompt)\n",
    "print(generated_description)"
   ]
  },
  {
   "cell_type": "code",
   "execution_count": 4,
   "metadata": {},
   "outputs": [],
   "source": [
    "generate_imgs(str('An oil painting of'+generated_description+' by Leonardo da Vinci and Frederic Edwin Church, highly-detailed, dramatic lighting'), num_imgs=3)"
   ]
  },
  {
   "cell_type": "code",
   "execution_count": 7,
   "metadata": {},
   "outputs": [],
   "source": [
    "# Ruta del directorio que contiene las imágenes\n",
    "directorio_imagenes = './generated_imgs/'\n",
    "\n",
    "# Obtener la lista de archivos en el directorio\n",
    "archivos = os.listdir(directorio_imagenes)\n",
    "imagenes = [os.path.join(directorio_imagenes, imagen) for imagen in archivos]\n",
    "\n",
    "# Ruta del archivo de video de salida\n",
    "salida = './videos/prueba1.mp4'\n",
    "\n",
    "# Crea el video\n",
    "generate_video(imagenes, salida, fps=60, espera=2)"
   ]
  }
 ],
 "metadata": {
  "kernelspec": {
   "display_name": "base",
   "language": "python",
   "name": "python3"
  },
  "language_info": {
   "codemirror_mode": {
    "name": "ipython",
    "version": 3
   },
   "file_extension": ".py",
   "mimetype": "text/x-python",
   "name": "python",
   "nbconvert_exporter": "python",
   "pygments_lexer": "ipython3",
   "version": "3.9.12"
  },
  "orig_nbformat": 4
 },
 "nbformat": 4,
 "nbformat_minor": 2
}

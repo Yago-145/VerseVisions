{
 "cells": [
  {
   "cell_type": "code",
   "execution_count": 111,
   "metadata": {},
   "outputs": [],
   "source": [
    "from langchain.embeddings import OpenAIEmbeddings\n",
    "from langchain.chains import RetrievalQA\n",
    "from langchain.chat_models import ChatOpenAI\n",
    "from langchain.document_loaders import CSVLoader\n",
    "from langchain.vectorstores import DocArrayInMemorySearch\n",
    "import os\n",
    "\n",
    "os.environ['OPENAI_API_KEY'] = ...\n",
    "\n",
    "embeddings = OpenAIEmbeddings()\n",
    "llm = ChatOpenAI(temperature = 0.0)\n",
    "docs = CSVLoader(\"data/train_red.csv\").load()\n",
    "\n",
    "db = DocArrayInMemorySearch.from_documents(\n",
    "    docs, \n",
    "    embeddings\n",
    ")\n",
    "\n",
    "retriever = db.as_retriever()"
   ]
  },
  {
   "cell_type": "code",
   "execution_count": 126,
   "metadata": {},
   "outputs": [],
   "source": [
    "qa_stuff = RetrievalQA.from_chain_type(\n",
    "    llm=llm, \n",
    "    chain_type=\"stuff\", \n",
    "    retriever=retriever, \n",
    "    verbose=False\n",
    ")\n",
    "\n",
    "query =  \"Please suggest a prompt based on the style of comic picture.\\\n",
    "    just provide the prompt, exclusively the prompt.\\\n",
    "        not any additional comments or anything.\""
   ]
  },
  {
   "cell_type": "code",
   "execution_count": 127,
   "metadata": {},
   "outputs": [
    {
     "data": {
      "text/plain": [
       "'A highly detailed comic spread combination of art styles depicting an impactful action scene on open meadow clear sky at noon with expert design fictional characters, bright colors, high color saturation, dynamic art by sakimi, moebius, makoto shinkai, murata, james jean, craig mullins, digital painting, masterpiece, best selling, pixiv, volumetric lighting, realistic shaded lighting, 8 k.'"
      ]
     },
     "execution_count": 127,
     "metadata": {},
     "output_type": "execute_result"
    }
   ],
   "source": [
    "response = qa_stuff.run(query)\n",
    "response"
   ]
  },
  {
   "cell_type": "code",
   "execution_count": 34,
   "metadata": {},
   "outputs": [],
   "source": [
    "%reload_ext autoreload\n",
    "%autoreload 2"
   ]
  },
  {
   "cell_type": "code",
   "execution_count": 31,
   "metadata": {},
   "outputs": [],
   "source": [
    "from auto_prompt import auto_prompt"
   ]
  },
  {
   "cell_type": "code",
   "execution_count": 42,
   "metadata": {},
   "outputs": [
    {
     "data": {
      "text/plain": [
       "'portrait photo of I see the girls walk by dressed in their summer clothes, photograph, highly detailed face, depth of field, moody light, golden hour, style by Dan Winters, Russell James, Steve McCurry, centered, extremely detailed, Nikon D850, award winning photography'"
      ]
     },
     "execution_count": 42,
     "metadata": {},
     "output_type": "execute_result"
    }
   ],
   "source": [
    "\n",
    "auto_prompt(\"\"\"From the following lyrics, find the prompt that whose style matches the best.\n",
    "               Don't try to understand the lyrics, just find the most accurate style prompt.\n",
    "               Don't modify the lyrics passed, just find the prompt that matches the style the best.\n",
    "               Don't add any additional comments or modifications to the prompt.\n",
    "               Here are the lyrics that you're going to replace in the template: I see the girls walk by dressed in their summer clothes\"\"\").strip()"
   ]
  }
 ],
 "metadata": {
  "kernelspec": {
   "display_name": "versevisions",
   "language": "python",
   "name": "python3"
  },
  "language_info": {
   "codemirror_mode": {
    "name": "ipython",
    "version": 3
   },
   "file_extension": ".py",
   "mimetype": "text/x-python",
   "name": "python",
   "nbconvert_exporter": "python",
   "pygments_lexer": "ipython3",
   "version": "3.9.12"
  },
  "orig_nbformat": 4
 },
 "nbformat": 4,
 "nbformat_minor": 2
}

{
 "cells": [
  {
   "cell_type": "code",
   "execution_count": 21,
   "metadata": {},
   "outputs": [
    {
     "name": "stdout",
     "output_type": "stream",
     "text": [
      "The autoreload extension is already loaded. To reload it, use:\n",
      "  %reload_ext autoreload\n"
     ]
    }
   ],
   "source": [
    "%load_ext autoreload\n",
    "%autoreload 2"
   ]
  },
  {
   "cell_type": "code",
   "execution_count": 1,
   "metadata": {},
   "outputs": [],
   "source": [
    "from generate_prompt import generate_prompt, extract_keywords\n",
    "from generate_imgs import generate_imgs\n",
    "from generate_video import generate_video\n",
    "from get_lyrics import get_lyrics\n",
    "import os"
   ]
  },
  {
   "cell_type": "code",
   "execution_count": 2,
   "metadata": {},
   "outputs": [
    {
     "name": "stdout",
     "output_type": "stream",
     "text": [
      "Searching for \"paint it black\" by the rolling stones...\n",
      "Done.\n"
     ]
    }
   ],
   "source": [
    "lyrics=get_lyrics('the rolling stones', 'paint it black')"
   ]
  },
  {
   "cell_type": "code",
   "execution_count": 3,
   "metadata": {},
   "outputs": [
    {
     "data": {
      "text/plain": [
       "['I see a red door and I want it painted black',\n",
       " 'No colours anymore, I want them to turn black',\n",
       " 'I see the girls walk by dressed in their summer clothes',\n",
       " 'I have to turn my head until my darkness goes',\n",
       " \"I see a line of cars and they're all painted black\",\n",
       " 'With flowers and my love, both never to come back',\n",
       " 'I see people turn their heads and quickly look away',\n",
       " 'Like a newborn baby, it just happens every day',\n",
       " 'I look inside myself and see my heart is black',\n",
       " 'I see my red door, I must have it painted black',\n",
       " \"Maybe then I'll fade away and not have to face the facts\",\n",
       " \"It's not easy facing up when your whole world is black\",\n",
       " 'No more will my green sea go turn a deeper blue',\n",
       " 'I could not foresee this thing happening to you',\n",
       " 'If I look hard enough into the setting sun',\n",
       " 'My love will laugh with me before the morning comes',\n",
       " 'You might also like[Verse 5]',\n",
       " 'I see a red door and I want it painted black',\n",
       " 'No colours anymore, I want them to turn black',\n",
       " 'I see the girls walk by dressed in their summer clothes',\n",
       " 'I have to turn my head until my darkness goes',\n",
       " 'I wanna see it painted, painted black',\n",
       " 'Black as night, black as coal',\n",
       " 'I wanna see the sun blotted out from the sky',\n",
       " 'I wanna see it painted, painted, painted',\n",
       " 'Painted black, yeah']"
      ]
     },
     "execution_count": 3,
     "metadata": {},
     "output_type": "execute_result"
    }
   ],
   "source": [
    "lyrics"
   ]
  },
  {
   "attachments": {},
   "cell_type": "markdown",
   "metadata": {},
   "source": [
    "**futurista**: A futuristic picture of {i} 4k resolution, highly-detailed, dramatic lighting dark mood and strong backlighting, volumetric lights, smoke volutes, artstation HQ, unreal engine, octane renderer, HQ, 8K\n",
    "\n",
    "**pencil:** A pencil drawing of {i} ,  intricate, elegant, highly detailed, digital painting, artstation, concept art, smooth, sharp focus, illustration, art by gaston bussiere and alphonse mucha\n",
    "\n",
    "**realista:** ultra realistic illustration and highly detailed digital picture of {i}, highly detailed, vibrant and vivid, smooth, cinematic, 4 k, hyperrealistic"
   ]
  },
  {
   "cell_type": "code",
   "execution_count": 9,
   "metadata": {},
   "outputs": [],
   "source": [
    "cont = 0\n",
    "output_dir = str(input('Nombre de la carpeta: '))\n",
    "if output_dir not in os.listdir('./'):\n",
    "    os.mkdir(output_dir)\n",
    "\n",
    "for i in lyrics:\n",
    "    #keywords = extract_keywords(i)\n",
    "\n",
    "    # Create a prompt to generate a description using GPT-3\n",
    "    # gpt3_prompt = f\"From the following lyrics, describe a scene using no more than 5 words: {', '.join(i)}\"\n",
    "    # generated_description = generate_prompt(gpt3_prompt)\n",
    "    # print(generated_description)\n",
    "\n",
    "    generate_imgs(f'A futuristic picture of {i} 4k resolution, highly-detailed, dramatic lighting dark mood and strong backlighting, volumetric lights, smoke volutes, artstation HQ, unreal engine, octane renderer, HQ, 8K', \n",
    "                  num_imgs=1, cont=cont, output_dir=output_dir)\n",
    "    cont += 1\n",
    "\n",
    "# Ruta del directorio que contiene las imágenes\n",
    "directorio_imagenes = './generated_imgs/'\n",
    "\n",
    "# Obtener la lista de archivos en el directorio\n",
    "archivos = os.listdir(output_dir)\n",
    "archivos.sort(key=lambda x: os.path.getctime(os.path.join(output_dir, x)))\n",
    "imagenes = [os.path.join(output_dir, imagen) for imagen in archivos]\n",
    "\n",
    "# Ruta del archivo de video de salida\n",
    "nombre_video = str(input('Nombre del video: '))\n",
    "salida = f'./{output_dir}/{nombre_video}.mp4'\n",
    "\n",
    "# Crea el video\n",
    "generate_video(imagenes, salida, fps=60, espera=2)"
   ]
  }
 ],
 "metadata": {
  "kernelspec": {
   "display_name": "base",
   "language": "python",
   "name": "python3"
  },
  "language_info": {
   "codemirror_mode": {
    "name": "ipython",
    "version": 3
   },
   "file_extension": ".py",
   "mimetype": "text/x-python",
   "name": "python",
   "nbconvert_exporter": "python",
   "pygments_lexer": "ipython3",
   "version": "3.9.12"
  },
  "orig_nbformat": 4
 },
 "nbformat": 4,
 "nbformat_minor": 2
}
